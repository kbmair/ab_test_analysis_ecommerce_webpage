{
 "cells": [
  {
   "cell_type": "code",
   "execution_count": 45,
   "id": "feaedb9c",
   "metadata": {},
   "outputs": [],
   "source": [
    "import numpy as np\n",
    "import pandas as pd\n",
    "import matplotlib.pyplot as plt"
   ]
  },
  {
   "attachments": {},
   "cell_type": "markdown",
   "id": "e8efd9cf",
   "metadata": {},
   "source": [
    "# Driving Business Decisions with Data: A/B Testing and Bootstrapping for Conversion Optimization\n",
    "\n",
    "\n",
    "Written by: Kyle Mair\n",
    "\n",
    "\n",
    "\n",
    "This analysis uses simulated real-world data from Udacity’s “Analyze A/B Test Results” project, comparing user interactions between a control group (users using an original website version) and an experiment group (users using a new website version). This article is written based off the project I submitted on Udacity’s platform in their course. Source credits and references are listed at the end of this article.\n",
    "\n",
    "\n",
    "\n",
    "### Introduction\n",
    "After completing an A/B test, results were collected from two distinct groups: (1) the control group and (2) the treatment group. To determine if their new website feature increased user traffic and engagement, Audacity Inc. needed to test for statistical significance. A sample was gathered and effectively split into the two groups: the control group interacted with the original website, while the treatment group was shown the updated website version with the new feature. All other variables were controlled to ensure the only difference was the version of the website each group used. Those running the experiment measured if users showed a specific action when interacting with their webpage version. If the user displayed this action they were marked down as (converted = 1), and it was considered a successful result. From there, it was my turn to dive into statistical analysis to evaluate both statistical and practical significance—and ultimately help guide the company’s decision-making.\n",
    "\n",
    "\n",
    "### Analyzing The Dataset\n",
    "To begin analyzing the results of the A/B test, I started by looking at the dataset. I wanted to see the different columns and values, and the number of rows and proportions of attributes per group. I wanted to see the proportion of users using their version of the website that displayed the desired action of engagement (converted = 1) compared to those that did not (converted = 0). I also checked for any missing values.\n",
    "\n",
    "\n",
    "---"
   ]
  },
  {
   "cell_type": "code",
   "execution_count": 98,
   "id": "50550ce2",
   "metadata": {},
   "outputs": [
    {
     "data": {
      "text/html": [
       "<div>\n",
       "<style scoped>\n",
       "    .dataframe tbody tr th:only-of-type {\n",
       "        vertical-align: middle;\n",
       "    }\n",
       "\n",
       "    .dataframe tbody tr th {\n",
       "        vertical-align: top;\n",
       "    }\n",
       "\n",
       "    .dataframe thead th {\n",
       "        text-align: right;\n",
       "    }\n",
       "</style>\n",
       "<table border=\"1\" class=\"dataframe\">\n",
       "  <thead>\n",
       "    <tr style=\"text-align: right;\">\n",
       "      <th></th>\n",
       "      <th>country</th>\n",
       "      <th>group</th>\n",
       "      <th>converted</th>\n",
       "    </tr>\n",
       "  </thead>\n",
       "  <tbody>\n",
       "    <tr>\n",
       "      <th>0</th>\n",
       "      <td>UK</td>\n",
       "      <td>control</td>\n",
       "      <td>0</td>\n",
       "    </tr>\n",
       "    <tr>\n",
       "      <th>1</th>\n",
       "      <td>US</td>\n",
       "      <td>treatment</td>\n",
       "      <td>1</td>\n",
       "    </tr>\n",
       "    <tr>\n",
       "      <th>2</th>\n",
       "      <td>UK</td>\n",
       "      <td>treatment</td>\n",
       "      <td>0</td>\n",
       "    </tr>\n",
       "    <tr>\n",
       "      <th>3</th>\n",
       "      <td>UK</td>\n",
       "      <td>control</td>\n",
       "      <td>0</td>\n",
       "    </tr>\n",
       "    <tr>\n",
       "      <th>4</th>\n",
       "      <td>UK</td>\n",
       "      <td>treatment</td>\n",
       "      <td>0</td>\n",
       "    </tr>\n",
       "  </tbody>\n",
       "</table>\n",
       "</div>"
      ],
      "text/plain": [
       "  country      group  converted\n",
       "0      UK    control          0\n",
       "1      US  treatment          1\n",
       "2      UK  treatment          0\n",
       "3      UK    control          0\n",
       "4      UK  treatment          0"
      ]
     },
     "execution_count": 98,
     "metadata": {},
     "output_type": "execute_result"
    }
   ],
   "source": [
    "df = pd.read_csv('ab_data.csv')\n",
    "df.head()"
   ]
  },
  {
   "cell_type": "code",
   "execution_count": 99,
   "id": "8fce27fd",
   "metadata": {},
   "outputs": [
    {
     "data": {
      "text/html": [
       "<div>\n",
       "<style scoped>\n",
       "    .dataframe tbody tr th:only-of-type {\n",
       "        vertical-align: middle;\n",
       "    }\n",
       "\n",
       "    .dataframe tbody tr th {\n",
       "        vertical-align: top;\n",
       "    }\n",
       "\n",
       "    .dataframe thead tr th {\n",
       "        text-align: left;\n",
       "    }\n",
       "</style>\n",
       "<table border=\"1\" class=\"dataframe\">\n",
       "  <thead>\n",
       "    <tr>\n",
       "      <th></th>\n",
       "      <th>Length of Dataset</th>\n",
       "      <th>Proportion of users converted</th>\n",
       "    </tr>\n",
       "  </thead>\n",
       "  <tbody>\n",
       "    <tr>\n",
       "      <th>0</th>\n",
       "      <td>69889</td>\n",
       "      <td>0.130478</td>\n",
       "    </tr>\n",
       "  </tbody>\n",
       "</table>\n",
       "</div>"
      ],
      "text/plain": [
       "  Length of Dataset Proportion of users converted\n",
       "0             69889                      0.130478"
      ]
     },
     "execution_count": 99,
     "metadata": {},
     "output_type": "execute_result"
    }
   ],
   "source": [
    "summary_df = pd.DataFrame(data=[[len(df), len(df.query('converted == 1')) / len(df)]],\n",
    "                          columns=[['Length of Dataset', 'Proportion of users converted']])\n",
    "summary_df"
   ]
  },
  {
   "cell_type": "code",
   "execution_count": 100,
   "id": "3a662202",
   "metadata": {},
   "outputs": [
    {
     "data": {
      "text/plain": [
       "country      False\n",
       "group        False\n",
       "converted    False\n",
       "dtype: bool"
      ]
     },
     "execution_count": 100,
     "metadata": {},
     "output_type": "execute_result"
    }
   ],
   "source": [
    "df.isnull().any()"
   ]
  },
  {
   "attachments": {},
   "cell_type": "markdown",
   "id": "076afbf3",
   "metadata": {},
   "source": [
    "---\n",
    "\n",
    "The experiment saw 13% of all participants display the desired action of engagement with the website version they were interacting with regardless of their group. Next, I wanted to add a unique identifying column to the dataset because such a column did not currently exist, then I could search and ensure there were no duplicate rows. I could also observe the different data types of each column in the dataset and see the possible values of the \"converted\" column.\n",
    "\n",
    "---"
   ]
  },
  {
   "cell_type": "code",
   "execution_count": 101,
   "id": "f2e0173d",
   "metadata": {},
   "outputs": [
    {
     "data": {
      "text/plain": [
       "False"
      ]
     },
     "execution_count": 101,
     "metadata": {},
     "output_type": "execute_result"
    }
   ],
   "source": [
    "df['id'] = df.index\n",
    "df.duplicated().any()"
   ]
  },
  {
   "cell_type": "code",
   "execution_count": 102,
   "id": "eb471d7a",
   "metadata": {},
   "outputs": [
    {
     "data": {
      "text/plain": [
       "country      object\n",
       "group        object\n",
       "converted     int64\n",
       "id            int64\n",
       "dtype: object"
      ]
     },
     "execution_count": 102,
     "metadata": {},
     "output_type": "execute_result"
    }
   ],
   "source": [
    "df.dtypes"
   ]
  },
  {
   "cell_type": "code",
   "execution_count": 103,
   "id": "29fe67ed",
   "metadata": {},
   "outputs": [
    {
     "data": {
      "text/plain": [
       "0    60770\n",
       "1     9119\n",
       "Name: converted, dtype: int64"
      ]
     },
     "execution_count": 103,
     "metadata": {},
     "output_type": "execute_result"
    }
   ],
   "source": [
    "df['converted'].value_counts()"
   ]
  },
  {
   "attachments": {},
   "cell_type": "markdown",
   "id": "1bdae269",
   "metadata": {},
   "source": [
    "---\n",
    "\n",
    "\n",
    "### Probability\n",
    "\n",
    "I wanted to look more closely at the proportions that made up each group for which subjects took the desired action with the website version they were given. I took a proportion of all subjects in the experiment regardless of their group, then I took a proportion of each group individually to see the proportion of subjects that took the desired action in the experiment (converted = 1).\n",
    "\n",
    "\n",
    "---"
   ]
  },
  {
   "cell_type": "code",
   "execution_count": 105,
   "id": "740cfd40",
   "metadata": {},
   "outputs": [
    {
     "data": {
      "text/html": [
       "<div>\n",
       "<style scoped>\n",
       "    .dataframe tbody tr th:only-of-type {\n",
       "        vertical-align: middle;\n",
       "    }\n",
       "\n",
       "    .dataframe tbody tr th {\n",
       "        vertical-align: top;\n",
       "    }\n",
       "\n",
       "    .dataframe thead th {\n",
       "        text-align: right;\n",
       "    }\n",
       "</style>\n",
       "<table border=\"1\" class=\"dataframe\">\n",
       "  <thead>\n",
       "    <tr style=\"text-align: right;\">\n",
       "      <th></th>\n",
       "      <th>All Subjects Average Conversion Rate</th>\n",
       "      <th>Average Conversion Rate (Old Website)</th>\n",
       "      <th>Average Conversion Rate (New Website)</th>\n",
       "    </tr>\n",
       "  </thead>\n",
       "  <tbody>\n",
       "    <tr>\n",
       "      <th>0</th>\n",
       "      <td>0.130478</td>\n",
       "      <td>0.105254</td>\n",
       "      <td>0.155321</td>\n",
       "    </tr>\n",
       "  </tbody>\n",
       "</table>\n",
       "</div>"
      ],
      "text/plain": [
       "   All Subjects Average Conversion Rate  \\\n",
       "0                              0.130478   \n",
       "\n",
       "   Average Conversion Rate (Old Website)  \\\n",
       "0                               0.105254   \n",
       "\n",
       "   Average Conversion Rate (New Website)  \n",
       "0                               0.155321  "
      ]
     },
     "execution_count": 105,
     "metadata": {},
     "output_type": "execute_result"
    }
   ],
   "source": [
    "prob_df = pd.DataFrame(\n",
    "    data=[[len(df.query('converted == 1')) / len(df),\n",
    "    len(df.query('group == \"control\" and converted == 1')) / len(df.query('group == \"control\"')),\n",
    "    len(df.query('group == \"treatment\" and converted == 1')) / len(df.query('group == \"treatment\"'))]],\n",
    "    columns=['All Subjects Average Conversion Rate',\n",
    "             'Average Conversion Rate (Old Website)', 'Average Conversion Rate (New Website)'])\n",
    "\n",
    "prob_df"
   ]
  },
  {
   "cell_type": "code",
   "execution_count": 106,
   "id": "046a3ac1",
   "metadata": {},
   "outputs": [
    {
     "data": {
      "text/plain": [
       "0.050066728877864425"
      ]
     },
     "execution_count": 106,
     "metadata": {},
     "output_type": "execute_result"
    }
   ],
   "source": [
    "obs_diff = (prob_df['Average Conversion Rate (New Website)'] - prob_df['Average Conversion Rate (Old Website)'])[0]\n",
    "obs_diff"
   ]
  },
  {
   "attachments": {},
   "cell_type": "markdown",
   "id": "3cd1b29d",
   "metadata": {},
   "source": [
    "---\n",
    "\n",
    "\n",
    "Looking at the proportion of subjects in the treatment group that showed the desired action with the new website version (15.5%), the proportion of users that show this same desired action is less with the old website version (10.5%). Here we see this observed difference is 5%.\n",
    "\n",
    "I wanted to continue looking at different probabilities, like the probability that an individual was in the treatment group.\n",
    "\n",
    "\n",
    "---"
   ]
  },
  {
   "cell_type": "code",
   "execution_count": 107,
   "id": "e5e9944d",
   "metadata": {},
   "outputs": [
    {
     "data": {
      "text/plain": [
       "0.5038131894861853"
      ]
     },
     "execution_count": 107,
     "metadata": {},
     "output_type": "execute_result"
    }
   ],
   "source": [
    "len(df.query('group == \"treatment\"')) / len(df)"
   ]
  },
  {
   "attachments": {},
   "cell_type": "markdown",
   "id": "1bca57c4",
   "metadata": {},
   "source": [
    "---\n",
    "\n",
    "\n",
    "We see a probability here of 50% that an individual was in the treatment group. Next, I wanted to check out what different proportions of all individuals were from which countries. I completed this with a pie chart as shown below.\n",
    "\n",
    "\n",
    "---"
   ]
  },
  {
   "cell_type": "code",
   "execution_count": 113,
   "id": "44489cbe",
   "metadata": {},
   "outputs": [
    {
     "data": {
      "text/plain": [
       "Text(0.5, 1.0, 'Proportion of Experimental Subjects By Country')"
      ]
     },
     "execution_count": 113,
     "metadata": {},
     "output_type": "execute_result"
    },
    {
     "data": {
      "image/png": "[encoded data removed]",
      "text/plain": [
       "<Figure size 640x480 with 1 Axes>"
      ]
     },
     "metadata": {},
     "output_type": "display_data"
    }
   ],
   "source": [
    "plt.pie(df['country'].value_counts(), labels = ['USA', 'UNITED KINGDOM', 'CANADA'], autopct='%1.1f%%')\n",
    "plt.title('Proportion of Experimental Subjects By Country')"
   ]
  },
  {
   "attachments": {},
   "cell_type": "markdown",
   "id": "8d28ff91",
   "metadata": {},
   "source": [
    "---\n",
    "\n",
    "\n",
    "Continuing down the route of different demographics I wanted to check some conditional probability given a subject of the experiment was from a specific country testing the probability of them displaying the conversion action regardless of their group (control & treatment).\n",
    "\n",
    "\n",
    "---"
   ]
  },
  {
   "cell_type": "markdown",
   "id": "9c865b9c",
   "metadata": {},
   "source": [
    "$P(\\text{converted} == 1|\\text{country} ==\\text{\"US\"})$ = 0.133\n"
   ]
  },
  {
   "cell_type": "code",
   "execution_count": 80,
   "id": "619c798b",
   "metadata": {},
   "outputs": [
    {
     "data": {
      "text/plain": [
       "0.13277379733879222"
      ]
     },
     "execution_count": 80,
     "metadata": {},
     "output_type": "execute_result"
    }
   ],
   "source": [
    "len(df.query('country==\"US\" and converted == 1')) / len(df.query('country == \"US\"'))"
   ]
  },
  {
   "cell_type": "markdown",
   "id": "c835f19e",
   "metadata": {},
   "source": [
    "$P(\\text{converted} == 1|\\text{country} ==\\text{\"UK\"})$ = 0.125"
   ]
  },
  {
   "cell_type": "code",
   "execution_count": 81,
   "id": "0d46766d",
   "metadata": {},
   "outputs": [
    {
     "data": {
      "text/plain": [
       "0.12512107572218106"
      ]
     },
     "execution_count": 81,
     "metadata": {},
     "output_type": "execute_result"
    }
   ],
   "source": [
    "len(df.query('country==\"UK\" and converted == 1')) / len(df.query('country == \"UK\"'))"
   ]
  },
  {
   "cell_type": "markdown",
   "id": "eab59a06",
   "metadata": {},
   "source": [
    "$P(\\text{converted} == 1|\\text{country} ==\\text{\"CA\"})$ = 0.125"
   ]
  },
  {
   "cell_type": "code",
   "execution_count": 82,
   "id": "204fe064",
   "metadata": {},
   "outputs": [
    {
     "data": {
      "text/plain": [
       "0.1252866972477064"
      ]
     },
     "execution_count": 82,
     "metadata": {},
     "output_type": "execute_result"
    }
   ],
   "source": [
    "len(df.query('country==\"CA\" and converted == 1')) / len(df.query('country == \"CA\"'))"
   ]
  },
  {
   "attachments": {},
   "cell_type": "markdown",
   "id": "e290fc92",
   "metadata": {},
   "source": [
    "---\n",
    "\n",
    "\n",
    "The above conditional probability statistics show that if a given subject is from the United States, they display the converted trait 13.3% of the time on average, while the other countries display it 12.5% of the time on average. So experimental subjects from the United States typically have a higher probability in this category of displaying the desired action of the experiment when interacting with their version of the website, this is not based by experimental groups. This is based by all experimental subjects.\n",
    "\n",
    "\n",
    "### Analyzing the experiment (A/B Test Results)\n",
    "The goal with the new feature implemented in the new version of the website is that it leads to a higher user conversion rate than the old version of the website that does not have the new feature. This would setup our null hypothesis as showing that the new version shows a decrease or no change in conversion rate among users. The alternative hypothesis would be set up to show that the new version shows an increase in conversion rate among users. We can notate these hypothesis as:\n",
    "\n",
    "$H_{0}: p_{treatment} - p_{control} <= 0$\n",
    "\n",
    "$H_{1}: p_{treatment} - p_{control} > 0$\n",
    "\n",
    "Here the **$p_{treatment}$** is the converstion rate for the treatment group and **$p_{control}$** is the conversion rate for the control group. When analyzing the test to find if the null hypothesis is rejected or not, I will execute the hypothesis test using bootstrapping. I will start with the observed difference of 5% we calculated earlier.\n",
    "\n",
    "\n",
    "---"
   ]
  },
  {
   "cell_type": "code",
   "execution_count": 83,
   "id": "9c5d70a7",
   "metadata": {},
   "outputs": [
    {
     "data": {
      "text/plain": [
       "0.050066728877864425"
      ]
     },
     "execution_count": 83,
     "metadata": {},
     "output_type": "execute_result"
    }
   ],
   "source": [
    "obs_diff"
   ]
  },
  {
   "attachments": {},
   "cell_type": "markdown",
   "id": "59dadb96",
   "metadata": {},
   "source": [
    "---\n",
    "\n",
    "\n",
    "Next, I will simulate creating a sampling distribution of the differences in conversion rates between the experiment group and the control group. For each iteration this will calculate a difference that will show if the experiment group had a higher proportion of experimental subjects that converted compared to the control group, or not. The result of all these iterations will be a sampling distribution that will approach a normal distribution shape because of the central limit theorem.\n",
    "\n",
    "\n",
    "---"
   ]
  },
  {
   "cell_type": "code",
   "execution_count": 86,
   "id": "94fe5e05",
   "metadata": {},
   "outputs": [
    {
     "data": {
      "text/plain": [
       "array([0.05090708, 0.05536105, 0.04979914, ..., 0.05096004, 0.0509795 ,\n",
       "       0.04817188])"
      ]
     },
     "execution_count": 86,
     "metadata": {},
     "output_type": "execute_result"
    }
   ],
   "source": [
    "p_diffs = []\n",
    "\n",
    "for i in range(10000):\n",
    "    bootsample = df.sample(n=df.shape[0], replace=True)\n",
    "    p_treatment_conv = len(bootsample.query('group == \"treatment\" and converted == 1')) / len(bootsample.query('group == \"treatment\"'))\n",
    "    p_control_conv = len(bootsample.query('group == \"control\" and converted == 1')) / len(bootsample.query('group == \"control\"'))\n",
    "    p_diffs_conv = p_treatment_conv - p_control_conv\n",
    "    p_diffs.append(p_diffs_conv)\n",
    "\n",
    "p_diffs = np.array(p_diffs)\n",
    "p_diffs"
   ]
  },
  {
   "cell_type": "code",
   "execution_count": 122,
   "id": "0140fa51",
   "metadata": {
    "scrolled": true
   },
   "outputs": [
    {
     "data": {
      "image/png": "[encoded data removed]",
      "text/plain": [
       "<Figure size 640x480 with 1 Axes>"
      ]
     },
     "metadata": {},
     "output_type": "display_data"
    }
   ],
   "source": [
    "plt.hist(p_diffs, bins=30, edgecolor='black')\n",
    "plt.axvline(obs_diff, color='red', linestyle='--', label=f'Observed diff: {obs_diff:.4f}')\n",
    "plt.title('Sampling Distribution of Conversion Rate Differences\\n(Treatment - Control)', fontsize=14)\n",
    "plt.xlabel('Difference in Conversion Rates', fontsize=12)\n",
    "plt.ylabel('Frequency', fontsize=12)\n",
    "plt.legend()\n",
    "plt.tight_layout()\n",
    "plt.savefig('./conversion_chart.png')\n"
   ]
  },
  {
   "attachments": {},
   "cell_type": "markdown",
   "id": "9db7df25",
   "metadata": {},
   "source": [
    "---\n",
    "\n",
    "\n",
    "Above I created (and plotted) a sampling distribution of the average differences between the conversion rates of the experiment group and the control group. I iterated the sampling 10,000 times with replacement. For example, for one iteration I would find the proportion of experimental subjects in the treatment group that converted, and then subtract the proportion of experimental subjects in the control group that converted (𝑝𝑡𝑟𝑒𝑎𝑡𝑚𝑒𝑛𝑡−𝑝𝑐𝑜𝑛𝑡𝑟𝑜𝑙). I did this 10,000 times to end up with a sampling distribution. The evidence here looks strong that even over 10,000 examples there seems to be an increase in conversion rate among the experiment group. The sampling with replacement method here statistically simulates We can strengthen this statement with a 95% confidence interval.\n",
    "\n",
    "\n",
    "---"
   ]
  },
  {
   "cell_type": "code",
   "execution_count": 97,
   "id": "65e2b0cd",
   "metadata": {},
   "outputs": [
    {
     "data": {
      "text/plain": [
       "(0.04497888957956648, 0.05497064318467871)"
      ]
     },
     "execution_count": 97,
     "metadata": {},
     "output_type": "execute_result"
    }
   ],
   "source": [
    "low_limit, upper_limit = np.percentile(p_diffs, [2.5,97.5])\n",
    "low_limit, upper_limit"
   ]
  },
  {
   "attachments": {},
   "cell_type": "markdown",
   "id": "bb6eb7fd",
   "metadata": {},
   "source": [
    "---\n",
    "\n",
    "\n",
    "`95% Confidence Interval: (0.04498, 0.05497)`\n",
    "This confidence interval means that we are 95% confident that the true difference in conversion rates between the treatment and control groups lies between 4.5% and 5.5%. Because this interval does not include a 0% it provides strong statistical evidence that the new website version had a positive effect on user conversion.\n",
    "\n",
    "This is a strong starting point. The next critical step is to test whether our results are statistically significant enough to reject the null hypothesis by calculating the p-value. The p-value tells us how likely it is to observe our actual result—or something more extreme in favor of the alternative hypothesis—if the null hypothesis were true. To compute this, we simulate a normal distribution centered at zero (the assumed difference under the null hypothesis), using the standard deviation from our sampling distribution. Essentially, we are modeling what the distribution of differences would look like if there were no true effect, which allows us to measure how extreme our observed result really is.\n",
    "\n",
    "\n",
    "\n",
    "---"
   ]
  },
  {
   "cell_type": "code",
   "execution_count": 125,
   "id": "8a0f2323",
   "metadata": {},
   "outputs": [
    {
     "data": {
      "image/png": "[encoded data removed]",
      "text/plain": [
       "<Figure size 1000x600 with 1 Axes>"
      ]
     },
     "metadata": {},
     "output_type": "display_data"
    }
   ],
   "source": [
    "null_vals = np.random.normal(0, np.std(p_diffs), 10000)\n",
    "\n",
    "plt.figure(figsize=(10,6))\n",
    "plt.hist(null_vals, bins=30, edgecolor='black', alpha=0.7)\n",
    "plt.axvline(x=obs_diff, color='red', linestyle='--', linewidth=2, label=f'Observed Diff = {obs_diff:.4f}')\n",
    "plt.title('Simulated Null Distribution of Conversion Rate Differences (Assuming No Real Effect)', fontsize=14)\n",
    "plt.xlabel('Difference in Conversion Rates (Treatment - Control)', fontsize=12)\n",
    "plt.ylabel('Frequency', fontsize=12)\n",
    "plt.legend()\n",
    "plt.tight_layout()\n",
    "plt.savefig('./conversion_normal.png')"
   ]
  },
  {
   "cell_type": "code",
   "execution_count": 95,
   "id": "d0b0ead0",
   "metadata": {},
   "outputs": [
    {
     "data": {
      "text/plain": [
       "0.0"
      ]
     },
     "execution_count": 95,
     "metadata": {},
     "output_type": "execute_result"
    }
   ],
   "source": [
    "p_val = len(null_vals[null_vals > obs_diff]) / len(null_vals)\n",
    "p_val"
   ]
  },
  {
   "attachments": {},
   "cell_type": "markdown",
   "id": "6c7c547a",
   "metadata": {},
   "source": [
    "---\n",
    "\n",
    "\n",
    "Above, I simulated our null hypothesis normal distribution values. Then I plotted the point of our observed value on that normal distribution chart, and the proportion of the null hypothesis normal distribution to the right of the observed value would be our p-value. In this instance the chart and the calculation show our 𝑝 = 0. While this is just a simulation, this p-value of 0 shows there is enough evidence to reject the null hypothesis.\n",
    "\n",
    "Based on the results for this A/B test the statistical significance exists that the new version of the website leads to a higher user conversion rate in the population than the old website version, so I would support Audacity Inc implementing the version of the website with the new feature.\n",
    "\n",
    "\n",
    "### Conclusion\n",
    "The A/B test results clearly show that the new website version leads to a statistically significant increase in user conversions. With a 95% confidence interval well above 0% and a p-value near zero, we can confidently reject the null hypothesis. Based on this analysis, I recommend that Audacity Inc. implement the new website feature to enhance user engagement and drive better business outcomes.\n",
    "\n",
    "\n",
    "### Sources\n",
    "•\tUdacity. (n.d.). Analyze A/B Test Results Project [Course project]. Retrieved from https://www.udacity.com![image-3.png](attachment:image-3.png)"
   ]
  },
  {
   "cell_type": "code",
   "execution_count": null,
   "id": "4f237867",
   "metadata": {},
   "outputs": [],
   "source": []
  }
 ],
 "metadata": {
  "kernelspec": {
   "display_name": "Python 3 (ipykernel)",
   "language": "python",
   "name": "python3"
  },
  "language_info": {
   "codemirror_mode": {
    "name": "ipython",
    "version": 3
   },
   "file_extension": ".py",
   "mimetype": "text/x-python",
   "name": "python",
   "nbconvert_exporter": "python",
   "pygments_lexer": "ipython3",
   "version": "3.11.4"
  }
 },
 "nbformat": 4,
 "nbformat_minor": 5
}
